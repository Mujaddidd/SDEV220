{
 "cells": [
  {
   "cell_type": "code",
   "execution_count": 1,
   "id": "84fd10a0",
   "metadata": {},
   "outputs": [],
   "source": [
    "# 13.1\n",
    "import datetime\n",
    "\n",
    "# Get the current date as a string\n",
    "current_date = datetime.date.today().strftime(\"%m/%d/%Y\")\n",
    "\n",
    "# Create and write to the file\n",
    "with open('today.txt', 'w') as file:\n",
    "    file.write(current_date)"
   ]
  },
  {
   "cell_type": "code",
   "execution_count": null,
   "id": "3ce46a4e",
   "metadata": {},
   "outputs": [],
   "source": [
    "# 13.2\n",
    "with open('today.txt', 'r') as file:\n",
    "    today_string = file.read()\n",
    "\n",
    "print(today_string)"
   ]
  },
  {
   "cell_type": "code",
   "execution_count": 2,
   "id": "c4ec7529",
   "metadata": {},
   "outputs": [
    {
     "name": "stdout",
     "output_type": "stream",
     "text": [
      "2023-07-15\n"
     ]
    }
   ],
   "source": [
    "# 13.3\n",
    "import datetime\n",
    "\n",
    "with open('today.txt', 'r') as file:\n",
    "    today_string = file.read()\n",
    "\n",
    "# Parse the date from the string\n",
    "date_object = datetime.datetime.strptime(today_string, '%m/%d/%Y').date()\n",
    "\n",
    "print(date_object)"
   ]
  },
  {
   "cell_type": "code",
   "execution_count": 3,
   "id": "d46ffe3a",
   "metadata": {},
   "outputs": [
    {
     "name": "stdout",
     "output_type": "stream",
     "text": [
      "1994-02-24\n",
      "1994-02-24\n"
     ]
    }
   ],
   "source": [
    "# 13.4\n",
    "import datetime\n",
    "\n",
    "# Create a date object of the day of birth\n",
    "birth_date = datetime.date(1994, 2, 24)\n",
    "\n",
    "print(birth_date)# 13.4 \n",
    "import datetime\n",
    "\n",
    "# Create a date object of the day of birth\n",
    "birth_date = datetime.date(1994, 2, 24)\n",
    "\n",
    "print(birth_date)"
   ]
  },
  {
   "cell_type": "code",
   "execution_count": 4,
   "id": "6bf51ccc",
   "metadata": {},
   "outputs": [
    {
     "name": "stdout",
     "output_type": "stream",
     "text": [
      "The day of the week for my day of birth is: Thursday\n"
     ]
    }
   ],
   "source": [
    "# 13.5 \n",
    "import datetime\n",
    "\n",
    "# Create a date object of the day of birth\n",
    "birth_date = datetime.date(1994, 2, 24)\n",
    "\n",
    "# Determine the day of the week\n",
    "day_of_week = birth_date.strftime(\"%A\")\n",
    "\n",
    "print(\"The day of the week for my day of birth is:\", day_of_week)"
   ]
  },
  {
   "cell_type": "code",
   "execution_count": 5,
   "id": "43041a97",
   "metadata": {},
   "outputs": [
    {
     "name": "stdout",
     "output_type": "stream",
     "text": [
      "The date when the person will be/was 10,000 days old is: 2017-10-13\n"
     ]
    }
   ],
   "source": [
    "# 13.6\n",
    "import datetime\n",
    "\n",
    "# Enter the birthdate in the format YYYY, MM, DD\n",
    "birthdate = datetime.date(1990, 5, 28)\n",
    "\n",
    "# Calculate the date when the person will be/was 10,000 days old\n",
    "ten_thousand_days = birthdate + datetime.timedelta(days=10000)\n",
    "\n",
    "print(\"The date when the person will be/was 10,000 days old is:\", ten_thousand_days)"
   ]
  },
  {
   "cell_type": "code",
   "execution_count": null,
   "id": "16e63fc0",
   "metadata": {},
   "outputs": [],
   "source": []
  }
 ],
 "metadata": {
  "kernelspec": {
   "display_name": "Python 3 (ipykernel)",
   "language": "python",
   "name": "python3"
  },
  "language_info": {
   "codemirror_mode": {
    "name": "ipython",
    "version": 3
   },
   "file_extension": ".py",
   "mimetype": "text/x-python",
   "name": "python",
   "nbconvert_exporter": "python",
   "pygments_lexer": "ipython3",
   "version": "3.10.9"
  }
 },
 "nbformat": 4,
 "nbformat_minor": 5
}
