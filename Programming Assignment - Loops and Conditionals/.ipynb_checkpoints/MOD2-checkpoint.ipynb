{
 "cells": [
  {
   "cell_type": "code",
   "execution_count": 14,
   "id": "e49098dc",
   "metadata": {},
   "outputs": [
    {
     "name": "stdout",
     "output_type": "stream",
     "text": [
      "to low\n"
     ]
    }
   ],
   "source": [
    "secret = 4\n",
    "guess = 2\n",
    "if guess < secret:\n",
    "    print(\"to low\")\n",
    "    \n",
    "elif guess > secret:\n",
    "    print(\" to high\")\n",
    "        \n",
    "elif guess == secret:\n",
    "    print(\"just right\")"
   ]
  },
  {
   "cell_type": "code",
   "execution_count": null,
   "id": "413e0e4b",
   "metadata": {},
   "outputs": [],
   "source": [
    "small = true\n",
    "green = false \n",
    "\n",
    "if "
   ]
  }
 ],
 "metadata": {
  "kernelspec": {
   "display_name": "Python 3 (ipykernel)",
   "language": "python",
   "name": "python3"
  },
  "language_info": {
   "codemirror_mode": {
    "name": "ipython",
    "version": 3
   },
   "file_extension": ".py",
   "mimetype": "text/x-python",
   "name": "python",
   "nbconvert_exporter": "python",
   "pygments_lexer": "ipython3",
   "version": "3.10.9"
  }
 },
 "nbformat": 4,
 "nbformat_minor": 5
}
