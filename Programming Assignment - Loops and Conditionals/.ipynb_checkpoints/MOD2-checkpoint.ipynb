{
 "cells": [
  {
   "cell_type": "code",
   "execution_count": 14,
   "id": "a0cc941b",
   "metadata": {},
   "outputs": [
    {
     "name": "stdout",
     "output_type": "stream",
     "text": [
      "to low\n"
     ]
    }
   ],
   "source": [
    "#4.1\n",
    "secret = 4\n",
    "guess = 2\n",
    "if guess < secret:\n",
    "    print(\"to low\")\n",
    "    \n",
    "elif guess > secret:\n",
    "    print(\" to high\")\n",
    "        \n",
    "elif guess == secret:\n",
    "    print(\"just right\")"
   ]
  },
  {
   "cell_type": "code",
   "execution_count": 2,
   "id": "d4fc7290",
   "metadata": {},
   "outputs": [
    {
     "name": "stdout",
     "output_type": "stream",
     "text": [
      "Cherry matches the criteria.\n"
     ]
    }
   ],
   "source": [
    "#4.2\n",
    "\n",
    "small = True\n",
    "green = False\n",
    "\n",
    "\n",
    "if small and not green:\n",
    "    print(\"Cherry matches the criteria.\")\n",
    "\n",
    "elif small and green:\n",
    "    print(\"Pea matches the criteria.\")\n",
    "\n",
    "elif not small and green:\n",
    "    print(\"Watermelon matches the criteria.\")\n",
    "\n",
    "else: # In this case, not small and not green\n",
    "    print(\"Pumpkin matches the criteria.\")\n"
   ]
  },
  {
   "cell_type": "code",
   "execution_count": 7,
   "id": "f0a5e420",
   "metadata": {},
   "outputs": [
    {
     "name": "stdout",
     "output_type": "stream",
     "text": [
      "3\n",
      "2\n",
      "1\n",
      "0\n"
     ]
    }
   ],
   "source": [
    "#6.1\n",
    "numbers = [3,2,1,0]\n",
    "for number in numbers:\n",
    "    print(number)"
   ]
  },
  {
   "cell_type": "code",
   "execution_count": 16,
   "id": "c95019c5",
   "metadata": {},
   "outputs": [
    {
     "name": "stdout",
     "output_type": "stream",
     "text": [
      "to low\n",
      "to low\n",
      "to low\n",
      "to low\n",
      "to low\n",
      "to low\n",
      "found it!\n"
     ]
    }
   ],
   "source": [
    "#6.2\n",
    "guess_me = 7\n",
    "number = 1\n",
    "\n",
    "while True:\n",
    "\n",
    "    if number < guess_me:\n",
    "        print('to low')\n",
    "    \n",
    "    elif number == guess_me:\n",
    "        print('found it!')\n",
    "        break\n",
    "    else:\n",
    "        print('opps')\n",
    "        break\n",
    "    number+= 1"
   ]
  },
  {
   "cell_type": "code",
   "execution_count": 19,
   "id": "cfed55bd",
   "metadata": {},
   "outputs": [
    {
     "name": "stdout",
     "output_type": "stream",
     "text": [
      "too low\n",
      "too low\n",
      "too low\n",
      "too low\n",
      "too low\n",
      "found it!\n"
     ]
    }
   ],
   "source": [
    "#6.3\n",
    "guessme = 5 \n",
    "for number in range(10):\n",
    "    \n",
    "    if number < guessme:\n",
    "        print('too low')\n",
    "    elif number == guessme:\n",
    "        print('found it!')\n",
    "        break\n",
    "    else:\n",
    "        print('oops')\n",
    "        break\n",
    "    "
   ]
  },
  {
   "cell_type": "code",
   "execution_count": null,
   "id": "ea85206e",
   "metadata": {},
   "outputs": [],
   "source": []
  }
 ],
 "metadata": {
  "kernelspec": {
   "display_name": "Python 3 (ipykernel)",
   "language": "python",
   "name": "python3"
  },
  "language_info": {
   "codemirror_mode": {
    "name": "ipython",
    "version": 3
   },
   "file_extension": ".py",
   "mimetype": "text/x-python",
   "name": "python",
   "nbconvert_exporter": "python",
   "pygments_lexer": "ipython3",
   "version": "3.10.9"
  }
 },
 "nbformat": 4,
 "nbformat_minor": 5
}
