{
 "cells": [
  {
   "cell_type": "code",
   "execution_count": null,
   "id": "6bb18d99",
   "metadata": {},
   "outputs": [
    {
     "name": "stdout",
     "output_type": "stream",
     "text": [
      "Enter student's last name (Enter 'ZZZ' to quit): cake\n",
      "Enter student's first name: bake\n",
      "Enter student's GPA: 4.20\n",
      "bake cake has made the Dean's List.\n",
      "\n",
      "Enter student's last name (Enter 'ZZZ' to quit): Mike \n",
      "Enter student's first name: Sike\n",
      "Enter student's GPA: 3.2\n",
      "Sike Mike  has not qualified for the Dean's List or the Honor Roll.\n",
      "\n",
      "Enter student's last name (Enter 'ZZZ' to quit): Will\n",
      "Enter student's first name: made\n",
      "Enter student's GPA: 1.2\n",
      "made Will has not qualified for the Dean's List or the Honor Roll.\n",
      "\n",
      "Enter student's last name (Enter 'ZZZ' to quit): Phanie\n",
      "Enter student's first name: Pakie\n",
      "Enter student's GPA: 2.0\n",
      "Pakie Phanie has not qualified for the Dean's List or the Honor Roll.\n",
      "\n",
      "Enter student's last name (Enter 'ZZZ' to quit): Justim\n",
      "Enter student's first name: Timber\n",
      "Enter student's GPA: 2.5\n",
      "Timber Justim has not qualified for the Dean's List or the Honor Roll.\n",
      "\n"
     ]
    }
   ],
   "source": [
    "'''\n",
    "Author: Lamarana Diallo\n",
    "File Name: gpa\n",
    "Description: This app accepts student names and GPAs, tests if the student qualifies for the Dean's List or the Honor Roll, \n",
    "and then prints the appropriate messages. The app will stop processing student records if 'ZZZ' is entered as the last name.\n",
    "'''\n",
    "\n",
    "def check_qualification():\n",
    "    while True:\n",
    "        last_name = input(\"Enter student's last name (Enter 'ZZZ' to quit): \")\n",
    "        if last_name == 'ZZZ':\n",
    "            break\n",
    "\n",
    "        first_name = input(\"Enter student's first name: \")\n",
    "        gpa = float(input(\"Enter student's GPA: \"))\n",
    "        \n",
    "        if gpa >= 3.5:\n",
    "            print(f\"{first_name} {last_name} has made the Dean's List.\\n\")\n",
    "        elif gpa >= 3.25:\n",
    "            print(f\"{first_name} {last_name} has made the Honor Roll.\\n\")\n",
    "        else:\n",
    "            print(f\"{first_name} {last_name} has not qualified for the Dean's List or the Honor Roll.\\n\")\n",
    "\n",
    "\n",
    "if __name__ == \"__main__\":\n",
    "    check_qualification()\n"
   ]
  },
  {
   "cell_type": "code",
   "execution_count": null,
   "id": "28f22e0f",
   "metadata": {},
   "outputs": [],
   "source": []
  }
 ],
 "metadata": {
  "kernelspec": {
   "display_name": "Python 3 (ipykernel)",
   "language": "python",
   "name": "python3"
  },
  "language_info": {
   "codemirror_mode": {
    "name": "ipython",
    "version": 3
   },
   "file_extension": ".py",
   "mimetype": "text/x-python",
   "name": "python",
   "nbconvert_exporter": "python",
   "pygments_lexer": "ipython3",
   "version": "3.10.9"
  }
 },
 "nbformat": 4,
 "nbformat_minor": 5
}
