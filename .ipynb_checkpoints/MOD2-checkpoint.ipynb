{
 "cells": [
  {
   "cell_type": "code",
   "execution_count": 14,
   "id": "3f6895e9",
   "metadata": {
    "scrolled": true
   },
   "outputs": [
    {
     "name": "stdout",
     "output_type": "stream",
     "text": [
      "to low\n"
     ]
    }
   ],
   "source": [
    "#secret = 4\n",
    "guess = 2\n",
    "if guess < secret:\n",
    "    print(\"to low\")\n",
    "    \n",
    "elif guess > secret:\n",
    "    print(\" to high\")\n",
    "        \n",
    "elif guess == secret:\n",
    "    print(\"just right\")"
   ]
  },
  {
   "cell_type": "code",
   "execution_count": 39,
   "id": "cc3878f1",
   "metadata": {},
   "outputs": [
    {
     "name": "stdout",
     "output_type": "stream",
     "text": [
      "The pea matches the choices.\n"
     ]
    }
   ],
   "source": [
    "small = True\n",
    "green = True\n",
    "\n",
    "# Using if/else statements to find a match\n",
    "\n",
    "# If the choice is small and green\n",
    "if small and green:\n",
    "    print(\"The pea matches the choices.\")\n",
    "\n",
    "# If the choice is small and not green\n",
    "elif small and not green:\n",
    "    print(\"The cherry matches the choices.\")\n",
    "\n",
    "# If the choice is not small and green\n",
    "elif not small and green:\n",
    "    print(\"The watermelon matches the choices.\")\n",
    "\n",
    "# If the choice is not small and not green\n",
    "elif not small and not green:\n",
    "    print(\"The pumpkin matches the choices.\")\n"
   ]
  },
  {
   "cell_type": "code",
   "execution_count": null,
   "id": "c2ac48f0",
   "metadata": {},
   "outputs": [],
   "source": []
  }
 ],
 "metadata": {
  "kernelspec": {
   "display_name": "Python 3 (ipykernel)",
   "language": "python",
   "name": "python3"
  },
  "language_info": {
   "codemirror_mode": {
    "name": "ipython",
    "version": 3
   },
   "file_extension": ".py",
   "mimetype": "text/x-python",
   "name": "python",
   "nbconvert_exporter": "python",
   "pygments_lexer": "ipython3",
   "version": "3.10.9"
  }
 },
 "nbformat": 4,
 "nbformat_minor": 5
}
